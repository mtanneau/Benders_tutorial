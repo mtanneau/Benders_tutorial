{
 "cells": [
  {
   "cell_type": "markdown",
   "id": "7734063e",
   "metadata": {},
   "source": [
    "# Traveling Salesman Problem (TSP)"
   ]
  },
  {
   "cell_type": "code",
   "execution_count": 1,
   "id": "3a15d679",
   "metadata": {},
   "outputs": [
    {
     "name": "stderr",
     "output_type": "stream",
     "text": [
      "┌ Info: Precompiling Gurobi [2e9cd046-0924-5485-92f1-d5272153d98b]\n",
      "└ @ Base loading.jl:1317\n",
      "\u001b[33m\u001b[1m┌ \u001b[22m\u001b[39m\u001b[33m\u001b[1mWarning: \u001b[22m\u001b[39mModule JSON with build ID 479443834401 is missing from the cache.\n",
      "\u001b[33m\u001b[1m│ \u001b[22m\u001b[39mThis may mean JSON [682c06a0-de6a-54ab-a142-c8b1cf79cde6] does not support precompilation but is imported by a module that does.\n",
      "\u001b[33m\u001b[1m└ \u001b[22m\u001b[39m\u001b[90m@ Base loading.jl:1008\u001b[39m\n",
      "\u001b[33m\u001b[1m┌ \u001b[22m\u001b[39m\u001b[33m\u001b[1mWarning: \u001b[22m\u001b[39mModule JSON with build ID 479443834401 is missing from the cache.\n",
      "\u001b[33m\u001b[1m│ \u001b[22m\u001b[39mThis may mean JSON [682c06a0-de6a-54ab-a142-c8b1cf79cde6] does not support precompilation but is imported by a module that does.\n",
      "\u001b[33m\u001b[1m└ \u001b[22m\u001b[39m\u001b[90m@ Base loading.jl:1008\u001b[39m\n",
      "\u001b[33m\u001b[1m┌ \u001b[22m\u001b[39m\u001b[33m\u001b[1mWarning: \u001b[22m\u001b[39mModule JSON with build ID 479443834401 is missing from the cache.\n",
      "\u001b[33m\u001b[1m│ \u001b[22m\u001b[39mThis may mean JSON [682c06a0-de6a-54ab-a142-c8b1cf79cde6] does not support precompilation but is imported by a module that does.\n",
      "\u001b[33m\u001b[1m└ \u001b[22m\u001b[39m\u001b[90m@ Base loading.jl:1008\u001b[39m\n",
      "\u001b[33m\u001b[1m┌ \u001b[22m\u001b[39m\u001b[33m\u001b[1mWarning: \u001b[22m\u001b[39mModule JSON with build ID 479443834401 is missing from the cache.\n",
      "\u001b[33m\u001b[1m│ \u001b[22m\u001b[39mThis may mean JSON [682c06a0-de6a-54ab-a142-c8b1cf79cde6] does not support precompilation but is imported by a module that does.\n",
      "\u001b[33m\u001b[1m└ \u001b[22m\u001b[39m\u001b[90m@ Base loading.jl:1008\u001b[39m\n",
      "┌ Info: Skipping precompilation since __precompile__(false). Importing Gurobi [2e9cd046-0924-5485-92f1-d5272153d98b].\n",
      "└ @ Base loading.jl:1025\n",
      "┌ Info: Precompiling MathOptInterface [b8f27783-ece8-5eb3-8dc8-9495eed66fee]\n",
      "└ @ Base loading.jl:1317\n",
      "\u001b[33m\u001b[1m┌ \u001b[22m\u001b[39m\u001b[33m\u001b[1mWarning: \u001b[22m\u001b[39mModule JSON with build ID 479443834401 is missing from the cache.\n",
      "\u001b[33m\u001b[1m│ \u001b[22m\u001b[39mThis may mean JSON [682c06a0-de6a-54ab-a142-c8b1cf79cde6] does not support precompilation but is imported by a module that does.\n",
      "\u001b[33m\u001b[1m└ \u001b[22m\u001b[39m\u001b[90m@ Base loading.jl:1008\u001b[39m\n",
      "\u001b[33m\u001b[1m┌ \u001b[22m\u001b[39m\u001b[33m\u001b[1mWarning: \u001b[22m\u001b[39mModule JSON with build ID 479443834401 is missing from the cache.\n",
      "\u001b[33m\u001b[1m│ \u001b[22m\u001b[39mThis may mean JSON [682c06a0-de6a-54ab-a142-c8b1cf79cde6] does not support precompilation but is imported by a module that does.\n",
      "\u001b[33m\u001b[1m└ \u001b[22m\u001b[39m\u001b[90m@ Base loading.jl:1008\u001b[39m\n",
      "┌ Info: Skipping precompilation since __precompile__(false). Importing MathOptInterface [b8f27783-ece8-5eb3-8dc8-9495eed66fee].\n",
      "└ @ Base loading.jl:1025\n",
      "┌ Info: Precompiling BenchmarkTools [6e4b80f9-dd63-53aa-95a3-0cdb28fa8baf]\n",
      "└ @ Base loading.jl:1317\n",
      "\u001b[33m\u001b[1m┌ \u001b[22m\u001b[39m\u001b[33m\u001b[1mWarning: \u001b[22m\u001b[39mModule JSON with build ID 479443834401 is missing from the cache.\n",
      "\u001b[33m\u001b[1m│ \u001b[22m\u001b[39mThis may mean JSON [682c06a0-de6a-54ab-a142-c8b1cf79cde6] does not support precompilation but is imported by a module that does.\n",
      "\u001b[33m\u001b[1m└ \u001b[22m\u001b[39m\u001b[90m@ Base loading.jl:1008\u001b[39m\n",
      "┌ Info: Skipping precompilation since __precompile__(false). Importing BenchmarkTools [6e4b80f9-dd63-53aa-95a3-0cdb28fa8baf].\n",
      "└ @ Base loading.jl:1025\n",
      "┌ Info: Precompiling JuMP [4076af6c-e467-56ae-b986-b466b2749572]\n",
      "└ @ Base loading.jl:1317\n",
      "\u001b[33m\u001b[1m┌ \u001b[22m\u001b[39m\u001b[33m\u001b[1mWarning: \u001b[22m\u001b[39mModule MathOptInterface with build ID 1319048490120 is missing from the cache.\n",
      "\u001b[33m\u001b[1m│ \u001b[22m\u001b[39mThis may mean MathOptInterface [b8f27783-ece8-5eb3-8dc8-9495eed66fee] does not support precompilation but is imported by a module that does.\n",
      "\u001b[33m\u001b[1m└ \u001b[22m\u001b[39m\u001b[90m@ Base loading.jl:1008\u001b[39m\n",
      "┌ Info: Skipping precompilation since __precompile__(false). Importing JuMP [4076af6c-e467-56ae-b986-b466b2749572].\n",
      "└ @ Base loading.jl:1025\n",
      "┌ Info: Precompiling ForwardDiff [f6369f11-7733-5829-9624-2563aa707210]\n",
      "└ @ Base loading.jl:1317\n",
      "┌ Info: Precompiling Plots [91a5bcdd-55d7-5caf-9e0b-520d859cae80]\n",
      "└ @ Base loading.jl:1317\n",
      "\u001b[33m\u001b[1m┌ \u001b[22m\u001b[39m\u001b[33m\u001b[1mWarning: \u001b[22m\u001b[39mModule JSON with build ID 479443834401 is missing from the cache.\n",
      "\u001b[33m\u001b[1m│ \u001b[22m\u001b[39mThis may mean JSON [682c06a0-de6a-54ab-a142-c8b1cf79cde6] does not support precompilation but is imported by a module that does.\n",
      "\u001b[33m\u001b[1m└ \u001b[22m\u001b[39m\u001b[90m@ Base loading.jl:1008\u001b[39m\n",
      "┌ Info: Skipping precompilation since __precompile__(false). Importing Plots [91a5bcdd-55d7-5caf-9e0b-520d859cae80].\n",
      "└ @ Base loading.jl:1025\n"
     ]
    }
   ],
   "source": [
    "using Pkg\n",
    "Pkg.activate(\".\")\n",
    "\n",
    "using LinearAlgebra\n",
    "using Printf\n",
    "using Random\n",
    "\n",
    "using Gurobi\n",
    "using JuMP\n",
    "\n",
    "using Plots"
   ]
  },
  {
   "cell_type": "markdown",
   "id": "85beda71",
   "metadata": {},
   "source": [
    "## Problem formulation\n",
    "\n",
    "We have $N$ cities to visit.\n",
    "Each city must be visited exactly once, and we must return to city $1$ at the end of the trip.\n",
    "\n",
    "Mathematical formulation:\n",
    "\\begin{align}\n",
    "    \\min_{x} \\quad\n",
    "      & \\sum_{i, j} D_{i, j} x_{i, j}\\\\\n",
    "      \\text{s.t.} \\quad\n",
    "      & x_{i, i} = 0, \n",
    "          && \\forall i \\in \\mathcal{N},\\\\\n",
    "      & \\sum_{j \\in \\mathcal{N}} x_{i, j} = 1, \n",
    "          && \\forall i \\in \\mathcal{N},\\\\\n",
    "      & \\sum_{i \\in \\mathcal{N}} x_{i, j} = 1, \n",
    "          && \\forall j \\in \\mathcal{N},\\\\\n",
    "      & \\sum_{i \\in \\mathcal{S}, j \\in \\mathcal{S}} x_{i, j} \\leq |\\mathcal{S}| - 1, \n",
    "          && \\forall \\mathcal{S} \\subseteq \\mathcal{N}, 2 \\leq |\\mathcal{S}| \\leq N-1\\\\\n",
    "      & x_{i, j} \\in \\{0, 1\\}, \n",
    "          && \\forall i, j \\in \\mathcal{N}^{2}\n",
    "\\end{align}\n",
    "\n",
    "where\n",
    "* $x_{i, j} = 1$ if city $j$ follows city $i$ in the tour, and zero otherwise\n",
    "* $D_{i, j}$ is the (euclidean) distance between cities $i$ and $j$\n",
    "* Constraints $\\sum_{i \\in \\mathcal{S}, j \\in \\mathcal{S}} x_{i, j} \\leq |\\mathcal{S}| - 1$ are _subtour elimination constraints_\n",
    "\n",
    "⚠️ There are exponentially many subtours! ⚠️"
   ]
  },
  {
   "cell_type": "code",
   "execution_count": 3,
   "id": "351b0c4c",
   "metadata": {},
   "outputs": [
    {
     "data": {
      "text/plain": [
       "generate_tsp_data (generic function with 1 method)"
      ]
     },
     "execution_count": 3,
     "metadata": {},
     "output_type": "execute_result"
    }
   ],
   "source": [
    "function generate_tsp_data(N; seed=42)\n",
    "    Random.seed!(seed)\n",
    "    \n",
    "    # Sample coordinates in the [0, 1] \\times [0, 1] square\n",
    "    X = rand(N, 2)\n",
    "    \n",
    "    # Compute Euclidean distances\n",
    "    D = zeros(N, N)\n",
    "    for i in 1:N\n",
    "        xᵢ = X[i, :]\n",
    "        for j in (i+1):N\n",
    "            xⱼ = X[j, :]\n",
    "            # Euclidean distances\n",
    "            D[i, j] = D[j, i] = norm(xᵢ - xⱼ, 2)\n",
    "        end\n",
    "    end\n",
    "    \n",
    "    return X, D\n",
    "end"
   ]
  },
  {
   "cell_type": "markdown",
   "id": "fab5dab2",
   "metadata": {},
   "source": [
    "## Lazy constraints"
   ]
  },
  {
   "cell_type": "code",
   "execution_count": 76,
   "id": "f0ab4698",
   "metadata": {},
   "outputs": [
    {
     "data": {
      "text/plain": [
       "find_subtours"
      ]
     },
     "execution_count": 76,
     "metadata": {},
     "output_type": "execute_result"
    }
   ],
   "source": [
    "function extract_tour(x)\n",
    "    n = size(x, 1)\n",
    "    size(x, 1) == size(x, 2) || error(\"x must be square\")\n",
    "    \n",
    "    # `t[i]` is the city that follows `i` in the tour\n",
    "    t = zeros(Int, n)\n",
    "    @inbounds for j in 1:n\n",
    "        for i in 1:n\n",
    "            x[i, j] == 1.0 && (t[i] = j; break;)\n",
    "        end\n",
    "    end\n",
    "    \n",
    "    flags = falses(n)\n",
    "    for i in t\n",
    "        flags[i] = true\n",
    "    end\n",
    "    all(flags) || error(\"City $(argmin(flags)) is not visited\")\n",
    "    \n",
    "    return t\n",
    "end\n",
    "\n",
    "\"\"\"\n",
    "    find_subtours(x)\n",
    "Compute sub-tours from tentative tour `x`.\n",
    "\"\"\"\n",
    "function find_subtours(t)\n",
    "    n = length(t)\n",
    "    # List of all sub-tours in `t`\n",
    "    # Will be empty if `t` is a tour\n",
    "    subtours = Vector{Int}[]\n",
    "\n",
    "    flags = falses(n)\n",
    "    num_seen = 0\n",
    "    while num_seen < n\n",
    "        first = argmin(flags)  # first city in current tour\n",
    "        flags[first] && break  # all cities have been visited\n",
    "        subtour = [first]\n",
    "        flags[first] = true\n",
    "        num_seen += 1\n",
    "        next = t[first]\n",
    "        next == first && error(\"City $(first) is its self-successor.\")\n",
    "        while next != first\n",
    "            push!(subtour, next)\n",
    "            flags[next] = 1\n",
    "            num_seen += 1\n",
    "            next = t[next]\n",
    "        end\n",
    "\n",
    "        length(subtour) == n && (return [subtour])  # x is a tour\n",
    "        # @info \"Found sub-tour: $subtour\"\n",
    "        push!(subtours, subtour)\n",
    "    end\n",
    "    \n",
    "#     @info \"Found $(length(subtours)) sub-tours.\"\n",
    "    return subtours\n",
    "end"
   ]
  },
  {
   "cell_type": "code",
   "execution_count": 160,
   "id": "679fa14a",
   "metadata": {
    "scrolled": false
   },
   "outputs": [
    {
     "data": {
      "text/plain": [
       "plot_tour (generic function with 1 method)"
      ]
     },
     "execution_count": 160,
     "metadata": {},
     "output_type": "execute_result"
    }
   ],
   "source": [
    "function solve_tsp_iterative(N; seed=42)\n",
    "    t_start = time()\n",
    "    \n",
    "    # Generate TSP data\n",
    "    X, D = generate_tsp_data(N; seed)\n",
    "    \n",
    "    # Build TSP model\n",
    "    tsp = direct_model(Gurobi.Optimizer())\n",
    "\n",
    "    @variable(tsp, x[1:N, 1:N], Bin)\n",
    "\n",
    "    @constraint(tsp, no_self[i in 1:N], x[i, i] == 0)\n",
    "    @constraint(tsp, arcs_in[j in 1:N], sum(x[:, j]) == 1)\n",
    "    @constraint(tsp, arcs_out[i in 1:N], sum(x[i, :]) == 1)\n",
    "\n",
    "    @objective(tsp, Min, sum(D .* x))\n",
    "\n",
    "    # Iterative constraint generation\n",
    "    solved = false\n",
    "    niter = 0\n",
    "\n",
    "    tours = []\n",
    "    \n",
    "    println(\"Solving a TSP with $(N) cities\\n\")\n",
    "    \n",
    "    @printf \"%4s  %4s  %6s\\n\" \"Iter\" \"#ST\" \"Time\"\n",
    "    while !solved && (niter < 30)\n",
    "        niter += 1\n",
    "\n",
    "        set_silent(tsp)\n",
    "        optimize!(tsp)\n",
    "        x_ = round.(value.(x));\n",
    "\n",
    "        tour = extract_tour(x_)\n",
    "        push!(tours, tour)\n",
    "        subtours = find_subtours(tour)\n",
    "\n",
    "        t_elapsed = time() - t_start\n",
    "        @printf \"%4d  %4d  %6.2f\\n\" niter length(subtours) t_elapsed\n",
    "\n",
    "        if length(subtours) == 1\n",
    "            solved = true\n",
    "            println(\"TSP Solved at iteration $niter\")\n",
    "            break\n",
    "        end\n",
    "\n",
    "        # add cuts\n",
    "        for st in subtours\n",
    "            S = length(st)\n",
    "            @constraint(tsp, \n",
    "                sum(x[st[1 + (k % S)], st[1 + ((k+1)%S)]] for k in 1:S) <= S-1\n",
    "            )\n",
    "            @constraint(tsp, \n",
    "                sum(x[st[1 + ((k+1)%S)], st[1 + (k % S)]] for k in 1:S) <= S-1\n",
    "            )\n",
    "        end\n",
    "    end\n",
    "    \n",
    "    return X, D, tsp, tours\n",
    "end\n",
    "\n",
    "function plot_tour(X, tour)\n",
    "    plt = scatter(\n",
    "        legend=false,\n",
    "        X[:, 1],\n",
    "        X[:, 2]\n",
    "    )\n",
    "    \n",
    "    subtours = find_subtours(tour)\n",
    "\n",
    "    for st in subtours\n",
    "        S = length(st)\n",
    "        for k in 1:S\n",
    "            iₖ = st[1 + (k % S)]\n",
    "            jₖ = st[1 + ((k+1)%S)]\n",
    "            plot!(plt,\n",
    "                [X[iₖ, 1], X[jₖ, 1]],\n",
    "                [X[iₖ, 2], X[jₖ, 2]],\n",
    "                label=nothing,\n",
    "                color=:black,\n",
    "            )\n",
    "        end\n",
    "    end\n",
    "    return plt\n",
    "end"
   ]
  },
  {
   "cell_type": "markdown",
   "id": "39b38d93",
   "metadata": {},
   "source": [
    "## Using a lazy constraint callback"
   ]
  },
  {
   "cell_type": "code",
   "execution_count": 176,
   "id": "0b1a68f2",
   "metadata": {},
   "outputs": [
    {
     "data": {
      "text/plain": [
       "solve_tsp_lazy (generic function with 1 method)"
      ]
     },
     "execution_count": 176,
     "metadata": {},
     "output_type": "execute_result"
    }
   ],
   "source": [
    "function solve_tsp_lazy(N; seed=42)\n",
    "    t_start = time()\n",
    "    \n",
    "    # Generate TSP data\n",
    "    X, D = generate_tsp_data(N; seed)\n",
    "    \n",
    "    # Build TSP model\n",
    "    tsp = direct_model(Gurobi.Optimizer())\n",
    "\n",
    "    @variable(tsp, x[1:N, 1:N], Bin)\n",
    "\n",
    "    @constraint(tsp, no_self[i in 1:N], x[i, i] == 0)\n",
    "    @constraint(tsp, arcs_in[j in 1:N], sum(x[:, j]) == 1)\n",
    "    @constraint(tsp, arcs_out[i in 1:N], sum(x[i, :]) == 1)\n",
    "\n",
    "    @objective(tsp, Min, sum(D .* x))\n",
    "    \n",
    "    tours = []\n",
    "    \n",
    "    # Define lazy callback\n",
    "    function tsp_callback_lazy(cb_data)\n",
    "        # Only separate cuts at integer solutions\n",
    "        cb_status = callback_node_status(cb_data, tsp)\n",
    "        cb_status == MOI.CALLBACK_NODE_STATUS_INTEGER || return nothing\n",
    "        \n",
    "        @info typeof(cb_data) maxlog=10\n",
    "        \n",
    "        # Grab solution and extract subtours\n",
    "        x_ = round.(callback_value.(cb_data, x))\n",
    "        tour = extract_tour(x_)\n",
    "        push!(tours, tour)\n",
    "        subtours = find_subtours(tour)\n",
    "        \n",
    "        length(subtours) == 1 && return nothing  # Solution is a tour\n",
    "        \n",
    "        # Add lazy constraints\n",
    "        for st in subtours\n",
    "            S = length(st)\n",
    "            con1 = @build_constraint(\n",
    "                sum(x[st[1 + (k % S)], st[1 + ((k+1)%S)]] for k in 1:S) <= S-1\n",
    "            )\n",
    "            con2 = @build_constraint(\n",
    "                sum(x[st[1 + ((k+1)%S)], st[1 + (k % S)]] for k in 1:S) <= S-1\n",
    "            )\n",
    "            \n",
    "            MOI.submit(tsp, MOI.LazyConstraint(cb_data), con1)\n",
    "            MOI.submit(tsp, MOI.LazyConstraint(cb_data), con2)\n",
    "        end\n",
    "        \n",
    "        return nothing\n",
    "    end\n",
    "    \n",
    "    MOI.set(tsp, MOI.LazyConstraintCallback(), tsp_callback_lazy)\n",
    "    \n",
    "    println(\"Solving a TSP with $(N) cities\\n\")\n",
    "    \n",
    "    unset_silent(tsp)\n",
    "    optimize!(tsp)\n",
    "    \n",
    "    return X, D, tsp, tours\n",
    "end"
   ]
  },
  {
   "cell_type": "code",
   "execution_count": 177,
   "id": "6e4bba24",
   "metadata": {},
   "outputs": [
    {
     "data": {
      "text/plain": [
       "42"
      ]
     },
     "execution_count": 177,
     "metadata": {},
     "output_type": "execute_result"
    }
   ],
   "source": [
    "N = 50\n",
    "seed = 42"
   ]
  },
  {
   "cell_type": "code",
   "execution_count": 166,
   "id": "5d75d6fa",
   "metadata": {},
   "outputs": [
    {
     "name": "stdout",
     "output_type": "stream",
     "text": [
      "Academic license - for non-commercial use only - expires 2022-07-04\n",
      "Solving a TSP with 30 cities\n",
      "\n",
      "Iter   #ST    Time\n",
      "   1    12    0.01\n",
      "   2     5    0.04\n",
      "   3     3    0.09\n",
      "   4     2    0.15\n",
      "   5     3    0.26\n",
      "   6     1    0.35\n",
      "TSP Solved at iteration 6\n",
      "objective_value(tsp) = 4.634958049385056\n"
     ]
    },
    {
     "name": "stderr",
     "output_type": "stream",
     "text": [
      "┌ Info: Saved animation to \n",
      "│   fn = /mnt/c/Users/mathi/Git/or_tutorials/callbacks/tsp_iterative_30.gif\n",
      "└ @ Plots /home/mtanneau/.julia/packages/Plots/tXtrW/src/animation.jl:114\n"
     ]
    }
   ],
   "source": [
    "X, D, tsp, tours = solve_tsp_iterative(N; seed);\n",
    "\n",
    "@show objective_value(tsp)\n",
    "\n",
    "ntours = length(tours)\n",
    "anim = @animate for t in 1:ntours\n",
    "    plt = plot_tour(X, tours[t])\n",
    "    title!(plt, \"TSP solution at iteration $(t)\")\n",
    "    plt\n",
    "end\n",
    "\n",
    "gif(anim, \"tsp_iterative_$(N).gif\", fps=3);"
   ]
  },
  {
   "cell_type": "code",
   "execution_count": 178,
   "id": "ab1830f2",
   "metadata": {},
   "outputs": [
    {
     "name": "stdout",
     "output_type": "stream",
     "text": [
      "Academic license - for non-commercial use only - expires 2022-07-04\n",
      "Solving a TSP with 50 cities\n",
      "\n",
      "Gurobi Optimizer version 9.1.1 build v9.1.1rc0 (linux64)\n",
      "Thread count: 4 physical cores, 8 logical processors, using up to 8 threads\n",
      "Optimize a model with 150 rows, 2500 columns and 5050 nonzeros\n",
      "Model fingerprint: 0x8b041c78\n",
      "Variable types: 0 continuous, 2500 integer (2500 binary)\n",
      "Coefficient statistics:\n",
      "  Matrix range     [1e+00, 1e+00]\n",
      "  Objective range  [2e-02, 1e+00]\n",
      "  Bounds range     [0e+00, 0e+00]\n",
      "  RHS range        [1e+00, 1e+00]\n",
      "Presolve removed 50 rows and 50 columns\n",
      "Presolve time: 0.01s\n",
      "Presolved: 100 rows, 2450 columns, 4900 nonzeros\n",
      "Variable types: 0 continuous, 2450 integer (2450 binary)\n",
      "\n",
      "Root relaxation: objective 5.173253e+00, 113 iterations, 0.00 seconds\n",
      "\n",
      "    Nodes    |    Current Node    |     Objective Bounds      |     Work\n",
      " Expl Unexpl |  Obj  Depth IntInf | Incumbent    BestBd   Gap | It/Node Time\n",
      "\n",
      "     0     0    5.17325    0   16          -    5.17325      -     -    0s\n",
      "H    0     0                       7.5035000    5.17325  31.1%     -    0s\n",
      "     0     0    5.40782    0   84    7.50350    5.40782  27.9%     -    0s\n",
      "     0     0    5.40782    0   82    7.50350    5.40782  27.9%     -    0s\n",
      "     0     0    5.40782    0   82    7.50350    5.40782  27.9%     -    0s\n",
      "     0     2    5.40782    0   82    7.50350    5.40782  27.9%     -    0s\n",
      "* 1056   808              91       7.1732362    5.61831  21.7%   5.9    0s\n",
      "H 1084   767                       7.0651634    5.61831  20.5%   6.0    0s\n",
      "H 1085   729                       6.7538807    5.69909  15.6%   6.0    1s\n",
      "H 1087   694                       6.7440551    5.72596  15.1%   6.0    1s\n",
      "H 1091   661                       6.7189757    5.75199  14.4%   5.9    2s\n",
      "H 1106   637                       6.2288196    5.81842  6.59%   5.9    2s\n",
      "H 1109   608                       6.2219490    5.83039  6.29%   6.5    2s\n",
      "H 1110   578                       6.1994767    5.83039  5.95%   6.5    2s\n",
      "H 1119   555                       6.1881646    5.83039  5.78%   6.4    3s\n",
      "H 1125   532                       6.1773444    5.83051  5.61%   6.9    3s\n",
      "H 1132   509                       6.1695811    5.83051  5.50%   6.8    4s\n",
      "H 1169   514                       6.1197856    5.84202  4.54%   7.7    4s\n",
      "  1201   533    5.90901   43  125    6.11979    5.84229  4.53%   8.2    5s\n",
      "H 1758   615                       6.0764416    5.85515  3.64%  10.5    5s\n",
      "H 2337   504                       6.0497309    5.86809  3.00%  11.2    5s\n",
      "\n",
      "Cutting planes:\n",
      "  Gomory: 22\n",
      "  Flow cover: 1\n",
      "  Inf proof: 4\n",
      "  Mod-K: 34\n",
      "  RLT: 6\n",
      "  Lazy constraints: 21\n",
      "\n",
      "Explored 6949 nodes (91409 simplex iterations) in 7.08 seconds\n",
      "Thread count was 8 (of 8 available processors)\n",
      "\n",
      "Solution count 10: 6.04973 6.07644 6.11979 ... 6.71898\n",
      "\n",
      "Optimal solution found (tolerance 1.00e-04)\n",
      "Best objective 6.049730909798e+00, best bound 6.049730909798e+00, gap 0.0000%\n",
      "\n",
      "User-callback calls 17304, time in user-callback 0.26 sec\n"
     ]
    },
    {
     "name": "stderr",
     "output_type": "stream",
     "text": [
      "┌ Info: Gurobi.CallbackData\n",
      "└ @ Main In[176]:26\n",
      "┌ Info: Gurobi.CallbackData\n",
      "└ @ Main In[176]:26\n",
      "┌ Info: Gurobi.CallbackData\n",
      "└ @ Main In[176]:26\n",
      "┌ Info: Gurobi.CallbackData\n",
      "└ @ Main In[176]:26\n",
      "┌ Info: Gurobi.CallbackData\n",
      "└ @ Main In[176]:26\n",
      "┌ Info: Gurobi.CallbackData\n",
      "└ @ Main In[176]:26\n",
      "┌ Info: Gurobi.CallbackData\n",
      "└ @ Main In[176]:26\n",
      "┌ Info: Gurobi.CallbackData\n",
      "└ @ Main In[176]:26\n",
      "┌ Info: Gurobi.CallbackData\n",
      "└ @ Main In[176]:26\n",
      "┌ Info: Gurobi.CallbackData\n",
      "└ @ Main In[176]:26\n"
     ]
    }
   ],
   "source": [
    "X, D, tsp, tours = solve_tsp_lazy(N; seed);\n",
    "\n",
    "# ntours = length(tours)\n",
    "# anim = @animate for t in 1:ntours\n",
    "#     plt = plot_tour(X, tours[t])\n",
    "#     title!(plt, \"TSP solution at iteration $(t)\")\n",
    "#     plt\n",
    "# end\n",
    "\n",
    "# gif(anim, \"tsp_lazy_$(N).gif\", fps=6);"
   ]
  },
  {
   "cell_type": "code",
   "execution_count": 175,
   "id": "00ecdd5d",
   "metadata": {},
   "outputs": [
    {
     "name": "stderr",
     "output_type": "stream",
     "text": [
      "┌ Info: Saved animation to \n",
      "│   fn = /home/mtanneau/Windows/tsp_lazy_100.gif\n",
      "└ @ Plots /home/mtanneau/.julia/packages/Plots/tXtrW/src/animation.jl:114\n"
     ]
    }
   ],
   "source": [
    "ntours = length(tours)\n",
    "anim = @animate for t in 1:ntours\n",
    "    plt = plot_tour(X, tours[t])\n",
    "    title!(plt, \"Solution at callback call $(t)\")\n",
    "    plt\n",
    "end\n",
    "\n",
    "gif(anim, \"/home/mtanneau/Windows/tsp_lazy_$(N).gif\", fps=24);"
   ]
  },
  {
   "cell_type": "markdown",
   "id": "85a512d4",
   "metadata": {},
   "source": [
    "## Heuristics"
   ]
  }
 ],
 "metadata": {
  "kernelspec": {
   "display_name": "Julia 1.6.1",
   "language": "julia",
   "name": "julia-1.6"
  },
  "language_info": {
   "file_extension": ".jl",
   "mimetype": "application/julia",
   "name": "julia",
   "version": "1.6.1"
  }
 },
 "nbformat": 4,
 "nbformat_minor": 5
}
