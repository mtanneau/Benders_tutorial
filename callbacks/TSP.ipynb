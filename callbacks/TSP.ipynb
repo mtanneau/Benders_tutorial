{
 "cells": [
  {
   "cell_type": "markdown",
   "id": "7734063e",
   "metadata": {},
   "source": [
    "# Traveling Salesman Problem (TSP)"
   ]
  },
  {
   "cell_type": "code",
   "execution_count": 3,
   "id": "3a15d679",
   "metadata": {},
   "outputs": [
    {
     "name": "stderr",
     "output_type": "stream",
     "text": [
      "\u001b[32m\u001b[1m  Activating\u001b[22m\u001b[39m environment at `~/Git/or_tutorials/callbacks/Project.toml`\n",
      "┌ Info: Precompiling Plots [91a5bcdd-55d7-5caf-9e0b-520d859cae80]\n",
      "└ @ Base loading.jl:1342\n"
     ]
    }
   ],
   "source": [
    "using Pkg\n",
    "Pkg.activate(\".\")\n",
    "\n",
    "using LinearAlgebra\n",
    "using Printf\n",
    "using Random\n",
    "\n",
    "using Gurobi\n",
    "using JuMP\n",
    "\n",
    "using Plots"
   ]
  },
  {
   "cell_type": "markdown",
   "id": "85beda71",
   "metadata": {},
   "source": [
    "## Problem formulation"
   ]
  },
  {
   "cell_type": "code",
   "execution_count": 2,
   "id": "351b0c4c",
   "metadata": {},
   "outputs": [
    {
     "data": {
      "text/plain": [
       "generate_tsp_data (generic function with 1 method)"
      ]
     },
     "execution_count": 2,
     "metadata": {},
     "output_type": "execute_result"
    }
   ],
   "source": [
    "function generate_tsp_data(N; seed=42)\n",
    "    Random.seed!(seed)\n",
    "    \n",
    "    # Sample coordinates\n",
    "    X = rand(N, 2)\n",
    "    \n",
    "    # Compute Euclidean distances\n",
    "    D = zeros(N, N)\n",
    "    for i in 1:N\n",
    "        xᵢ = X[i, :]\n",
    "        for j in (i+1):N\n",
    "            xⱼ = X[j, :]\n",
    "            # Euclidean distances\n",
    "            D[i, j] = norm(xᵢ - xⱼ, 2)\n",
    "        end\n",
    "    end\n",
    "    \n",
    "    # Symmetrize the dis\n",
    "    D .+= D'\n",
    "    \n",
    "    return X, D\n",
    "end"
   ]
  },
  {
   "cell_type": "code",
   "execution_count": 4,
   "id": "81c350ce",
   "metadata": {},
   "outputs": [
    {
     "name": "stderr",
     "output_type": "stream",
     "text": [
      "┌ Info: Precompiling GR_jll [d2c73de3-f751-5644-a686-071e5b155ba9]\n",
      "└ @ Base loading.jl:1342\n",
      "\u001b[33m\u001b[1m┌ \u001b[22m\u001b[39m\u001b[33m\u001b[1mWarning: \u001b[22m\u001b[39mModule Glib_jll with build ID 512745726695908 is missing from the cache.\n",
      "\u001b[33m\u001b[1m│ \u001b[22m\u001b[39mThis may mean Glib_jll [7746bdde-850d-59dc-9ae8-88ece973131d] does not support precompilation but is imported by a module that does.\n",
      "\u001b[33m\u001b[1m└ \u001b[22m\u001b[39m\u001b[90m@ Base loading.jl:1030\u001b[39m\n"
     ]
    },
    {
     "data": {
      "image/svg+xml": [
       "<?xml version=\"1.0\" encoding=\"utf-8\"?>\n",
       "<svg xmlns=\"http://www.w3.org/2000/svg\" xmlns:xlink=\"http://www.w3.org/1999/xlink\" width=\"600\" height=\"400\" viewBox=\"0 0 2400 1600\">\n",
       "<defs>\n",
       "  <clipPath id=\"clip340\">\n",
       "    <rect x=\"0\" y=\"0\" width=\"2400\" height=\"1600\"/>\n",
       "  </clipPath>\n",
       "</defs>\n",
       "<path clip-path=\"url(#clip340)\" d=\"\n",
       "M0 1600 L2400 1600 L2400 0 L0 0  Z\n",
       "  \" fill=\"#ffffff\" fill-rule=\"evenodd\" fill-opacity=\"1\"/>\n",
       "<defs>\n",
       "  <clipPath id=\"clip341\">\n",
       "    <rect x=\"480\" y=\"0\" width=\"1681\" height=\"1600\"/>\n",
       "  </clipPath>\n",
       "</defs>\n",
       "<path clip-path=\"url(#clip340)\" d=\"\n",
       "M186.274 1486.45 L2352.76 1486.45 L2352.76 47.2441 L186.274 47.2441  Z\n",
       "  \" fill=\"#ffffff\" fill-rule=\"evenodd\" fill-opacity=\"1\"/>\n",
       "<defs>\n",
       "  <clipPath id=\"clip342\">\n",
       "    <rect x=\"186\" y=\"47\" width=\"2167\" height=\"1440\"/>\n",
       "  </clipPath>\n",
       "</defs>\n",
       "<polyline clip-path=\"url(#clip342)\" style=\"stroke:#000000; stroke-linecap:butt; stroke-linejoin:round; stroke-width:2; stroke-opacity:0.1; fill:none\" points=\"\n",
       "  209.772,1486.45 209.772,47.2441 \n",
       "  \"/>\n",
       "<polyline clip-path=\"url(#clip342)\" style=\"stroke:#000000; stroke-linecap:butt; stroke-linejoin:round; stroke-width:2; stroke-opacity:0.1; fill:none\" points=\"\n",
       "  744.319,1486.45 744.319,47.2441 \n",
       "  \"/>\n",
       "<polyline clip-path=\"url(#clip342)\" style=\"stroke:#000000; stroke-linecap:butt; stroke-linejoin:round; stroke-width:2; stroke-opacity:0.1; fill:none\" points=\"\n",
       "  1278.87,1486.45 1278.87,47.2441 \n",
       "  \"/>\n",
       "<polyline clip-path=\"url(#clip342)\" style=\"stroke:#000000; stroke-linecap:butt; stroke-linejoin:round; stroke-width:2; stroke-opacity:0.1; fill:none\" points=\"\n",
       "  1813.41,1486.45 1813.41,47.2441 \n",
       "  \"/>\n",
       "<polyline clip-path=\"url(#clip342)\" style=\"stroke:#000000; stroke-linecap:butt; stroke-linejoin:round; stroke-width:2; stroke-opacity:0.1; fill:none\" points=\"\n",
       "  2347.96,1486.45 2347.96,47.2441 \n",
       "  \"/>\n",
       "<polyline clip-path=\"url(#clip340)\" style=\"stroke:#000000; stroke-linecap:butt; stroke-linejoin:round; stroke-width:4; stroke-opacity:1; fill:none\" points=\"\n",
       "  186.274,1486.45 2352.76,1486.45 \n",
       "  \"/>\n",
       "<polyline clip-path=\"url(#clip340)\" style=\"stroke:#000000; stroke-linecap:butt; stroke-linejoin:round; stroke-width:4; stroke-opacity:1; fill:none\" points=\"\n",
       "  209.772,1486.45 209.772,1467.55 \n",
       "  \"/>\n",
       "<polyline clip-path=\"url(#clip340)\" style=\"stroke:#000000; stroke-linecap:butt; stroke-linejoin:round; stroke-width:4; stroke-opacity:1; fill:none\" points=\"\n",
       "  744.319,1486.45 744.319,1467.55 \n",
       "  \"/>\n",
       "<polyline clip-path=\"url(#clip340)\" style=\"stroke:#000000; stroke-linecap:butt; stroke-linejoin:round; stroke-width:4; stroke-opacity:1; fill:none\" points=\"\n",
       "  1278.87,1486.45 1278.87,1467.55 \n",
       "  \"/>\n",
       "<polyline clip-path=\"url(#clip340)\" style=\"stroke:#000000; stroke-linecap:butt; stroke-linejoin:round; stroke-width:4; stroke-opacity:1; fill:none\" points=\"\n",
       "  1813.41,1486.45 1813.41,1467.55 \n",
       "  \"/>\n",
       "<polyline clip-path=\"url(#clip340)\" style=\"stroke:#000000; stroke-linecap:butt; stroke-linejoin:round; stroke-width:4; stroke-opacity:1; fill:none\" points=\"\n",
       "  2347.96,1486.45 2347.96,1467.55 \n",
       "  \"/>\n",
       "<path clip-path=\"url(#clip340)\" d=\"M172.075 1517.37 Q168.464 1517.37 166.635 1520.93 Q164.83 1524.47 164.83 1531.6 Q164.83 1538.71 166.635 1542.27 Q168.464 1545.82 172.075 1545.82 Q175.709 1545.82 177.515 1542.27 Q179.344 1538.71 179.344 1531.6 Q179.344 1524.47 177.515 1520.93 Q175.709 1517.37 172.075 1517.37 M172.075 1513.66 Q177.885 1513.66 180.941 1518.27 Q184.02 1522.85 184.02 1531.6 Q184.02 1540.33 180.941 1544.94 Q177.885 1549.52 172.075 1549.52 Q166.265 1549.52 163.186 1544.94 Q160.131 1540.33 160.131 1531.6 Q160.131 1522.85 163.186 1518.27 Q166.265 1513.66 172.075 1513.66 Z\" fill=\"#000000\" fill-rule=\"evenodd\" fill-opacity=\"1\" /><path clip-path=\"url(#clip340)\" d=\"M192.237 1542.97 L197.121 1542.97 L197.121 1548.85 L192.237 1548.85 L192.237 1542.97 Z\" fill=\"#000000\" fill-rule=\"evenodd\" fill-opacity=\"1\" /><path clip-path=\"url(#clip340)\" d=\"M217.306 1517.37 Q213.695 1517.37 211.867 1520.93 Q210.061 1524.47 210.061 1531.6 Q210.061 1538.71 211.867 1542.27 Q213.695 1545.82 217.306 1545.82 Q220.941 1545.82 222.746 1542.27 Q224.575 1538.71 224.575 1531.6 Q224.575 1524.47 222.746 1520.93 Q220.941 1517.37 217.306 1517.37 M217.306 1513.66 Q223.117 1513.66 226.172 1518.27 Q229.251 1522.85 229.251 1531.6 Q229.251 1540.33 226.172 1544.94 Q223.117 1549.52 217.306 1549.52 Q211.496 1549.52 208.418 1544.94 Q205.362 1540.33 205.362 1531.6 Q205.362 1522.85 208.418 1518.27 Q211.496 1513.66 217.306 1513.66 Z\" fill=\"#000000\" fill-rule=\"evenodd\" fill-opacity=\"1\" /><path clip-path=\"url(#clip340)\" d=\"M247.468 1517.37 Q243.857 1517.37 242.029 1520.93 Q240.223 1524.47 240.223 1531.6 Q240.223 1538.71 242.029 1542.27 Q243.857 1545.82 247.468 1545.82 Q251.103 1545.82 252.908 1542.27 Q254.737 1538.71 254.737 1531.6 Q254.737 1524.47 252.908 1520.93 Q251.103 1517.37 247.468 1517.37 M247.468 1513.66 Q253.278 1513.66 256.334 1518.27 Q259.413 1522.85 259.413 1531.6 Q259.413 1540.33 256.334 1544.94 Q253.278 1549.52 247.468 1549.52 Q241.658 1549.52 238.579 1544.94 Q235.524 1540.33 235.524 1531.6 Q235.524 1522.85 238.579 1518.27 Q241.658 1513.66 247.468 1513.66 Z\" fill=\"#000000\" fill-rule=\"evenodd\" fill-opacity=\"1\" /><path clip-path=\"url(#clip340)\" d=\"M707.12 1517.37 Q703.509 1517.37 701.68 1520.93 Q699.875 1524.47 699.875 1531.6 Q699.875 1538.71 701.68 1542.27 Q703.509 1545.82 707.12 1545.82 Q710.755 1545.82 712.56 1542.27 Q714.389 1538.71 714.389 1531.6 Q714.389 1524.47 712.56 1520.93 Q710.755 1517.37 707.12 1517.37 M707.12 1513.66 Q712.93 1513.66 715.986 1518.27 Q719.065 1522.85 719.065 1531.6 Q719.065 1540.33 715.986 1544.94 Q712.93 1549.52 707.12 1549.52 Q701.31 1549.52 698.231 1544.94 Q695.176 1540.33 695.176 1531.6 Q695.176 1522.85 698.231 1518.27 Q701.31 1513.66 707.12 1513.66 Z\" fill=\"#000000\" fill-rule=\"evenodd\" fill-opacity=\"1\" /><path clip-path=\"url(#clip340)\" d=\"M727.282 1542.97 L732.166 1542.97 L732.166 1548.85 L727.282 1548.85 L727.282 1542.97 Z\" fill=\"#000000\" fill-rule=\"evenodd\" fill-opacity=\"1\" /><path clip-path=\"url(#clip340)\" d=\"M746.379 1544.91 L762.699 1544.91 L762.699 1548.85 L740.754 1548.85 L740.754 1544.91 Q743.416 1542.16 748 1537.53 Q752.606 1532.88 753.787 1531.53 Q756.032 1529.01 756.912 1527.27 Q757.814 1525.51 757.814 1523.82 Q757.814 1521.07 755.87 1519.33 Q753.949 1517.6 750.847 1517.6 Q748.648 1517.6 746.194 1518.36 Q743.764 1519.13 740.986 1520.68 L740.986 1515.95 Q743.81 1514.82 746.264 1514.24 Q748.717 1513.66 750.754 1513.66 Q756.125 1513.66 759.319 1516.35 Q762.513 1519.03 762.513 1523.52 Q762.513 1525.65 761.703 1527.57 Q760.916 1529.47 758.81 1532.07 Q758.231 1532.74 755.129 1535.95 Q752.027 1539.15 746.379 1544.91 Z\" fill=\"#000000\" fill-rule=\"evenodd\" fill-opacity=\"1\" /><path clip-path=\"url(#clip340)\" d=\"M772.56 1514.29 L790.916 1514.29 L790.916 1518.22 L776.842 1518.22 L776.842 1526.7 Q777.861 1526.35 778.879 1526.19 Q779.898 1526 780.916 1526 Q786.703 1526 790.083 1529.17 Q793.462 1532.34 793.462 1537.76 Q793.462 1543.34 789.99 1546.44 Q786.518 1549.52 780.199 1549.52 Q778.023 1549.52 775.754 1549.15 Q773.509 1548.78 771.101 1548.04 L771.101 1543.34 Q773.185 1544.47 775.407 1545.03 Q777.629 1545.58 780.106 1545.58 Q784.111 1545.58 786.449 1543.48 Q788.786 1541.37 788.786 1537.76 Q788.786 1534.15 786.449 1532.04 Q784.111 1529.94 780.106 1529.94 Q778.231 1529.94 776.356 1530.35 Q774.504 1530.77 772.56 1531.65 L772.56 1514.29 Z\" fill=\"#000000\" fill-rule=\"evenodd\" fill-opacity=\"1\" /><path clip-path=\"url(#clip340)\" d=\"M1241.17 1517.37 Q1237.56 1517.37 1235.73 1520.93 Q1233.92 1524.47 1233.92 1531.6 Q1233.92 1538.71 1235.73 1542.27 Q1237.56 1545.82 1241.17 1545.82 Q1244.8 1545.82 1246.61 1542.27 Q1248.44 1538.71 1248.44 1531.6 Q1248.44 1524.47 1246.61 1520.93 Q1244.8 1517.37 1241.17 1517.37 M1241.17 1513.66 Q1246.98 1513.66 1250.04 1518.27 Q1253.11 1522.85 1253.11 1531.6 Q1253.11 1540.33 1250.04 1544.94 Q1246.98 1549.52 1241.17 1549.52 Q1235.36 1549.52 1232.28 1544.94 Q1229.23 1540.33 1229.23 1531.6 Q1229.23 1522.85 1232.28 1518.27 Q1235.36 1513.66 1241.17 1513.66 Z\" fill=\"#000000\" fill-rule=\"evenodd\" fill-opacity=\"1\" /><path clip-path=\"url(#clip340)\" d=\"M1261.33 1542.97 L1266.22 1542.97 L1266.22 1548.85 L1261.33 1548.85 L1261.33 1542.97 Z\" fill=\"#000000\" fill-rule=\"evenodd\" fill-opacity=\"1\" /><path clip-path=\"url(#clip340)\" d=\"M1276.45 1514.29 L1294.8 1514.29 L1294.8 1518.22 L1280.73 1518.22 L1280.73 1526.7 Q1281.75 1526.35 1282.77 1526.19 Q1283.79 1526 1284.8 1526 Q1290.59 1526 1293.97 1529.17 Q1297.35 1532.34 1297.35 1537.76 Q1297.35 1543.34 1293.88 1546.44 Q1290.41 1549.52 1284.09 1549.52 Q1281.91 1549.52 1279.64 1549.15 Q1277.4 1548.78 1274.99 1548.04 L1274.99 1543.34 Q1277.07 1544.47 1279.29 1545.03 Q1281.52 1545.58 1283.99 1545.58 Q1288 1545.58 1290.34 1543.48 Q1292.67 1541.37 1292.67 1537.76 Q1292.67 1534.15 1290.34 1532.04 Q1288 1529.94 1283.99 1529.94 Q1282.12 1529.94 1280.24 1530.35 Q1278.39 1530.77 1276.45 1531.65 L1276.45 1514.29 Z\" fill=\"#000000\" fill-rule=\"evenodd\" fill-opacity=\"1\" /><path clip-path=\"url(#clip340)\" d=\"M1316.56 1517.37 Q1312.95 1517.37 1311.12 1520.93 Q1309.32 1524.47 1309.32 1531.6 Q1309.32 1538.71 1311.12 1542.27 Q1312.95 1545.82 1316.56 1545.82 Q1320.2 1545.82 1322 1542.27 Q1323.83 1538.71 1323.83 1531.6 Q1323.83 1524.47 1322 1520.93 Q1320.2 1517.37 1316.56 1517.37 M1316.56 1513.66 Q1322.37 1513.66 1325.43 1518.27 Q1328.51 1522.85 1328.51 1531.6 Q1328.51 1540.33 1325.43 1544.94 Q1322.37 1549.52 1316.56 1549.52 Q1310.75 1549.52 1307.67 1544.94 Q1304.62 1540.33 1304.62 1531.6 Q1304.62 1522.85 1307.67 1518.27 Q1310.75 1513.66 1316.56 1513.66 Z\" fill=\"#000000\" fill-rule=\"evenodd\" fill-opacity=\"1\" /><path clip-path=\"url(#clip340)\" d=\"M1776.22 1517.37 Q1772.6 1517.37 1770.78 1520.93 Q1768.97 1524.47 1768.97 1531.6 Q1768.97 1538.71 1770.78 1542.27 Q1772.6 1545.82 1776.22 1545.82 Q1779.85 1545.82 1781.65 1542.27 Q1783.48 1538.71 1783.48 1531.6 Q1783.48 1524.47 1781.65 1520.93 Q1779.85 1517.37 1776.22 1517.37 M1776.22 1513.66 Q1782.03 1513.66 1785.08 1518.27 Q1788.16 1522.85 1788.16 1531.6 Q1788.16 1540.33 1785.08 1544.94 Q1782.03 1549.52 1776.22 1549.52 Q1770.4 1549.52 1767.33 1544.94 Q1764.27 1540.33 1764.27 1531.6 Q1764.27 1522.85 1767.33 1518.27 Q1770.4 1513.66 1776.22 1513.66 Z\" fill=\"#000000\" fill-rule=\"evenodd\" fill-opacity=\"1\" /><path clip-path=\"url(#clip340)\" d=\"M1796.38 1542.97 L1801.26 1542.97 L1801.26 1548.85 L1796.38 1548.85 L1796.38 1542.97 Z\" fill=\"#000000\" fill-rule=\"evenodd\" fill-opacity=\"1\" /><path clip-path=\"url(#clip340)\" d=\"M1810.27 1514.29 L1832.49 1514.29 L1832.49 1516.28 L1819.94 1548.85 L1815.06 1548.85 L1826.86 1518.22 L1810.27 1518.22 L1810.27 1514.29 Z\" fill=\"#000000\" fill-rule=\"evenodd\" fill-opacity=\"1\" /><path clip-path=\"url(#clip340)\" d=\"M1841.65 1514.29 L1860.01 1514.29 L1860.01 1518.22 L1845.94 1518.22 L1845.94 1526.7 Q1846.96 1526.35 1847.97 1526.19 Q1848.99 1526 1850.01 1526 Q1855.8 1526 1859.18 1529.17 Q1862.56 1532.34 1862.56 1537.76 Q1862.56 1543.34 1859.08 1546.44 Q1855.61 1549.52 1849.29 1549.52 Q1847.12 1549.52 1844.85 1549.15 Q1842.6 1548.78 1840.2 1548.04 L1840.2 1543.34 Q1842.28 1544.47 1844.5 1545.03 Q1846.72 1545.58 1849.2 1545.58 Q1853.21 1545.58 1855.54 1543.48 Q1857.88 1541.37 1857.88 1537.76 Q1857.88 1534.15 1855.54 1532.04 Q1853.21 1529.94 1849.2 1529.94 Q1847.33 1529.94 1845.45 1530.35 Q1843.6 1530.77 1841.65 1531.65 L1841.65 1514.29 Z\" fill=\"#000000\" fill-rule=\"evenodd\" fill-opacity=\"1\" /><path clip-path=\"url(#clip340)\" d=\"M2300.03 1544.91 L2307.67 1544.91 L2307.67 1518.55 L2299.36 1520.21 L2299.36 1515.95 L2307.63 1514.29 L2312.3 1514.29 L2312.3 1544.91 L2319.94 1544.91 L2319.94 1548.85 L2300.03 1548.85 L2300.03 1544.91 Z\" fill=\"#000000\" fill-rule=\"evenodd\" fill-opacity=\"1\" /><path clip-path=\"url(#clip340)\" d=\"M2329.39 1542.97 L2334.27 1542.97 L2334.27 1548.85 L2329.39 1548.85 L2329.39 1542.97 Z\" fill=\"#000000\" fill-rule=\"evenodd\" fill-opacity=\"1\" /><path clip-path=\"url(#clip340)\" d=\"M2354.45 1517.37 Q2350.84 1517.37 2349.01 1520.93 Q2347.21 1524.47 2347.21 1531.6 Q2347.21 1538.71 2349.01 1542.27 Q2350.84 1545.82 2354.45 1545.82 Q2358.09 1545.82 2359.89 1542.27 Q2361.72 1538.71 2361.72 1531.6 Q2361.72 1524.47 2359.89 1520.93 Q2358.09 1517.37 2354.45 1517.37 M2354.45 1513.66 Q2360.26 1513.66 2363.32 1518.27 Q2366.4 1522.85 2366.4 1531.6 Q2366.4 1540.33 2363.32 1544.94 Q2360.26 1549.52 2354.45 1549.52 Q2348.64 1549.52 2345.57 1544.94 Q2342.51 1540.33 2342.51 1531.6 Q2342.51 1522.85 2345.57 1518.27 Q2348.64 1513.66 2354.45 1513.66 Z\" fill=\"#000000\" fill-rule=\"evenodd\" fill-opacity=\"1\" /><path clip-path=\"url(#clip340)\" d=\"M2384.62 1517.37 Q2381.01 1517.37 2379.18 1520.93 Q2377.37 1524.47 2377.37 1531.6 Q2377.37 1538.71 2379.18 1542.27 Q2381.01 1545.82 2384.62 1545.82 Q2388.25 1545.82 2390.06 1542.27 Q2391.88 1538.71 2391.88 1531.6 Q2391.88 1524.47 2390.06 1520.93 Q2388.25 1517.37 2384.62 1517.37 M2384.62 1513.66 Q2390.43 1513.66 2393.48 1518.27 Q2396.56 1522.85 2396.56 1531.6 Q2396.56 1540.33 2393.48 1544.94 Q2390.43 1549.52 2384.62 1549.52 Q2378.81 1549.52 2375.73 1544.94 Q2372.67 1540.33 2372.67 1531.6 Q2372.67 1522.85 2375.73 1518.27 Q2378.81 1513.66 2384.62 1513.66 Z\" fill=\"#000000\" fill-rule=\"evenodd\" fill-opacity=\"1\" /><polyline clip-path=\"url(#clip342)\" style=\"stroke:#000000; stroke-linecap:butt; stroke-linejoin:round; stroke-width:2; stroke-opacity:0.1; fill:none\" points=\"\n",
       "  186.274,1452.3 2352.76,1452.3 \n",
       "  \"/>\n",
       "<polyline clip-path=\"url(#clip342)\" style=\"stroke:#000000; stroke-linecap:butt; stroke-linejoin:round; stroke-width:2; stroke-opacity:0.1; fill:none\" points=\"\n",
       "  186.274,1110.04 2352.76,1110.04 \n",
       "  \"/>\n",
       "<polyline clip-path=\"url(#clip342)\" style=\"stroke:#000000; stroke-linecap:butt; stroke-linejoin:round; stroke-width:2; stroke-opacity:0.1; fill:none\" points=\"\n",
       "  186.274,767.782 2352.76,767.782 \n",
       "  \"/>\n",
       "<polyline clip-path=\"url(#clip342)\" style=\"stroke:#000000; stroke-linecap:butt; stroke-linejoin:round; stroke-width:2; stroke-opacity:0.1; fill:none\" points=\"\n",
       "  186.274,425.524 2352.76,425.524 \n",
       "  \"/>\n",
       "<polyline clip-path=\"url(#clip342)\" style=\"stroke:#000000; stroke-linecap:butt; stroke-linejoin:round; stroke-width:2; stroke-opacity:0.1; fill:none\" points=\"\n",
       "  186.274,83.2657 2352.76,83.2657 \n",
       "  \"/>\n",
       "<polyline clip-path=\"url(#clip340)\" style=\"stroke:#000000; stroke-linecap:butt; stroke-linejoin:round; stroke-width:4; stroke-opacity:1; fill:none\" points=\"\n",
       "  186.274,1486.45 186.274,47.2441 \n",
       "  \"/>\n",
       "<polyline clip-path=\"url(#clip340)\" style=\"stroke:#000000; stroke-linecap:butt; stroke-linejoin:round; stroke-width:4; stroke-opacity:1; fill:none\" points=\"\n",
       "  186.274,1452.3 205.172,1452.3 \n",
       "  \"/>\n",
       "<polyline clip-path=\"url(#clip340)\" style=\"stroke:#000000; stroke-linecap:butt; stroke-linejoin:round; stroke-width:4; stroke-opacity:1; fill:none\" points=\"\n",
       "  186.274,1110.04 205.172,1110.04 \n",
       "  \"/>\n",
       "<polyline clip-path=\"url(#clip340)\" style=\"stroke:#000000; stroke-linecap:butt; stroke-linejoin:round; stroke-width:4; stroke-opacity:1; fill:none\" points=\"\n",
       "  186.274,767.782 205.172,767.782 \n",
       "  \"/>\n",
       "<polyline clip-path=\"url(#clip340)\" style=\"stroke:#000000; stroke-linecap:butt; stroke-linejoin:round; stroke-width:4; stroke-opacity:1; fill:none\" points=\"\n",
       "  186.274,425.524 205.172,425.524 \n",
       "  \"/>\n",
       "<polyline clip-path=\"url(#clip340)\" style=\"stroke:#000000; stroke-linecap:butt; stroke-linejoin:round; stroke-width:4; stroke-opacity:1; fill:none\" points=\"\n",
       "  186.274,83.2657 205.172,83.2657 \n",
       "  \"/>\n",
       "<path clip-path=\"url(#clip340)\" d=\"M62.9365 1438.1 Q59.3254 1438.1 57.4967 1441.66 Q55.6912 1445.2 55.6912 1452.33 Q55.6912 1459.44 57.4967 1463.01 Q59.3254 1466.55 62.9365 1466.55 Q66.5707 1466.55 68.3763 1463.01 Q70.205 1459.44 70.205 1452.33 Q70.205 1445.2 68.3763 1441.66 Q66.5707 1438.1 62.9365 1438.1 M62.9365 1434.39 Q68.7467 1434.39 71.8022 1439 Q74.8809 1443.58 74.8809 1452.33 Q74.8809 1461.06 71.8022 1465.67 Q68.7467 1470.25 62.9365 1470.25 Q57.1264 1470.25 54.0477 1465.67 Q50.9921 1461.06 50.9921 1452.33 Q50.9921 1443.58 54.0477 1439 Q57.1264 1434.39 62.9365 1434.39 Z\" fill=\"#000000\" fill-rule=\"evenodd\" fill-opacity=\"1\" /><path clip-path=\"url(#clip340)\" d=\"M83.0984 1463.7 L87.9827 1463.7 L87.9827 1469.58 L83.0984 1469.58 L83.0984 1463.7 Z\" fill=\"#000000\" fill-rule=\"evenodd\" fill-opacity=\"1\" /><path clip-path=\"url(#clip340)\" d=\"M108.168 1438.1 Q104.557 1438.1 102.728 1441.66 Q100.922 1445.2 100.922 1452.33 Q100.922 1459.44 102.728 1463.01 Q104.557 1466.55 108.168 1466.55 Q111.802 1466.55 113.608 1463.01 Q115.436 1459.44 115.436 1452.33 Q115.436 1445.2 113.608 1441.66 Q111.802 1438.1 108.168 1438.1 M108.168 1434.39 Q113.978 1434.39 117.033 1439 Q120.112 1443.58 120.112 1452.33 Q120.112 1461.06 117.033 1465.67 Q113.978 1470.25 108.168 1470.25 Q102.358 1470.25 99.2789 1465.67 Q96.2234 1461.06 96.2234 1452.33 Q96.2234 1443.58 99.2789 1439 Q102.358 1434.39 108.168 1434.39 Z\" fill=\"#000000\" fill-rule=\"evenodd\" fill-opacity=\"1\" /><path clip-path=\"url(#clip340)\" d=\"M138.33 1438.1 Q134.719 1438.1 132.89 1441.66 Q131.084 1445.2 131.084 1452.33 Q131.084 1459.44 132.89 1463.01 Q134.719 1466.55 138.33 1466.55 Q141.964 1466.55 143.769 1463.01 Q145.598 1459.44 145.598 1452.33 Q145.598 1445.2 143.769 1441.66 Q141.964 1438.1 138.33 1438.1 M138.33 1434.39 Q144.14 1434.39 147.195 1439 Q150.274 1443.58 150.274 1452.33 Q150.274 1461.06 147.195 1465.67 Q144.14 1470.25 138.33 1470.25 Q132.519 1470.25 129.441 1465.67 Q126.385 1461.06 126.385 1452.33 Q126.385 1443.58 129.441 1439 Q132.519 1434.39 138.33 1434.39 Z\" fill=\"#000000\" fill-rule=\"evenodd\" fill-opacity=\"1\" /><path clip-path=\"url(#clip340)\" d=\"M63.9319 1095.84 Q60.3208 1095.84 58.4921 1099.4 Q56.6865 1102.95 56.6865 1110.08 Q56.6865 1117.18 58.4921 1120.75 Q60.3208 1124.29 63.9319 1124.29 Q67.5661 1124.29 69.3717 1120.75 Q71.2004 1117.18 71.2004 1110.08 Q71.2004 1102.95 69.3717 1099.4 Q67.5661 1095.84 63.9319 1095.84 M63.9319 1092.14 Q69.742 1092.14 72.7976 1096.74 Q75.8763 1101.33 75.8763 1110.08 Q75.8763 1118.8 72.7976 1123.41 Q69.742 1127.99 63.9319 1127.99 Q58.1217 1127.99 55.043 1123.41 Q51.9875 1118.8 51.9875 1110.08 Q51.9875 1101.33 55.043 1096.74 Q58.1217 1092.14 63.9319 1092.14 Z\" fill=\"#000000\" fill-rule=\"evenodd\" fill-opacity=\"1\" /><path clip-path=\"url(#clip340)\" d=\"M84.0938 1121.44 L88.978 1121.44 L88.978 1127.32 L84.0938 1127.32 L84.0938 1121.44 Z\" fill=\"#000000\" fill-rule=\"evenodd\" fill-opacity=\"1\" /><path clip-path=\"url(#clip340)\" d=\"M103.191 1123.39 L119.51 1123.39 L119.51 1127.32 L97.566 1127.32 L97.566 1123.39 Q100.228 1120.63 104.811 1116 Q109.418 1111.35 110.598 1110.01 Q112.844 1107.48 113.723 1105.75 Q114.626 1103.99 114.626 1102.3 Q114.626 1099.54 112.682 1097.81 Q110.76 1096.07 107.658 1096.07 Q105.459 1096.07 103.006 1096.83 Q100.575 1097.6 97.7974 1099.15 L97.7974 1094.43 Q100.621 1093.29 103.075 1092.71 Q105.529 1092.14 107.566 1092.14 Q112.936 1092.14 116.131 1094.82 Q119.325 1097.51 119.325 1102 Q119.325 1104.13 118.515 1106.05 Q117.728 1107.95 115.621 1110.54 Q115.043 1111.21 111.941 1114.43 Q108.839 1117.62 103.191 1123.39 Z\" fill=\"#000000\" fill-rule=\"evenodd\" fill-opacity=\"1\" /><path clip-path=\"url(#clip340)\" d=\"M129.371 1092.76 L147.728 1092.76 L147.728 1096.7 L133.654 1096.7 L133.654 1105.17 Q134.672 1104.82 135.691 1104.66 Q136.709 1104.47 137.728 1104.47 Q143.515 1104.47 146.894 1107.65 Q150.274 1110.82 150.274 1116.23 Q150.274 1121.81 146.802 1124.91 Q143.33 1127.99 137.01 1127.99 Q134.834 1127.99 132.566 1127.62 Q130.32 1127.25 127.913 1126.51 L127.913 1121.81 Q129.996 1122.95 132.219 1123.5 Q134.441 1124.06 136.918 1124.06 Q140.922 1124.06 143.26 1121.95 Q145.598 1119.84 145.598 1116.23 Q145.598 1112.62 143.26 1110.52 Q140.922 1108.41 136.918 1108.41 Q135.043 1108.41 133.168 1108.83 Q131.316 1109.24 129.371 1110.12 L129.371 1092.76 Z\" fill=\"#000000\" fill-rule=\"evenodd\" fill-opacity=\"1\" /><path clip-path=\"url(#clip340)\" d=\"M62.9365 753.581 Q59.3254 753.581 57.4967 757.146 Q55.6912 760.688 55.6912 767.817 Q55.6912 774.924 57.4967 778.488 Q59.3254 782.03 62.9365 782.03 Q66.5707 782.03 68.3763 778.488 Q70.205 774.924 70.205 767.817 Q70.205 760.688 68.3763 757.146 Q66.5707 753.581 62.9365 753.581 M62.9365 749.877 Q68.7467 749.877 71.8022 754.484 Q74.8809 759.067 74.8809 767.817 Q74.8809 776.544 71.8022 781.15 Q68.7467 785.734 62.9365 785.734 Q57.1264 785.734 54.0477 781.15 Q50.9921 776.544 50.9921 767.817 Q50.9921 759.067 54.0477 754.484 Q57.1264 749.877 62.9365 749.877 Z\" fill=\"#000000\" fill-rule=\"evenodd\" fill-opacity=\"1\" /><path clip-path=\"url(#clip340)\" d=\"M83.0984 779.183 L87.9827 779.183 L87.9827 785.062 L83.0984 785.062 L83.0984 779.183 Z\" fill=\"#000000\" fill-rule=\"evenodd\" fill-opacity=\"1\" /><path clip-path=\"url(#clip340)\" d=\"M98.2141 750.502 L116.57 750.502 L116.57 754.438 L102.496 754.438 L102.496 762.91 Q103.515 762.563 104.534 762.401 Q105.552 762.215 106.571 762.215 Q112.358 762.215 115.737 765.387 Q119.117 768.558 119.117 773.975 Q119.117 779.553 115.645 782.655 Q112.172 785.734 105.853 785.734 Q103.677 785.734 101.409 785.363 Q99.1632 784.993 96.7558 784.252 L96.7558 779.553 Q98.8391 780.688 101.061 781.243 Q103.284 781.799 105.76 781.799 Q109.765 781.799 112.103 779.692 Q114.441 777.586 114.441 773.975 Q114.441 770.363 112.103 768.257 Q109.765 766.151 105.76 766.151 Q103.885 766.151 102.01 766.567 Q100.159 766.984 98.2141 767.864 L98.2141 750.502 Z\" fill=\"#000000\" fill-rule=\"evenodd\" fill-opacity=\"1\" /><path clip-path=\"url(#clip340)\" d=\"M138.33 753.581 Q134.719 753.581 132.89 757.146 Q131.084 760.688 131.084 767.817 Q131.084 774.924 132.89 778.488 Q134.719 782.03 138.33 782.03 Q141.964 782.03 143.769 778.488 Q145.598 774.924 145.598 767.817 Q145.598 760.688 143.769 757.146 Q141.964 753.581 138.33 753.581 M138.33 749.877 Q144.14 749.877 147.195 754.484 Q150.274 759.067 150.274 767.817 Q150.274 776.544 147.195 781.15 Q144.14 785.734 138.33 785.734 Q132.519 785.734 129.441 781.15 Q126.385 776.544 126.385 767.817 Q126.385 759.067 129.441 754.484 Q132.519 749.877 138.33 749.877 Z\" fill=\"#000000\" fill-rule=\"evenodd\" fill-opacity=\"1\" /><path clip-path=\"url(#clip340)\" d=\"M63.9319 411.323 Q60.3208 411.323 58.4921 414.888 Q56.6865 418.429 56.6865 425.559 Q56.6865 432.665 58.4921 436.23 Q60.3208 439.772 63.9319 439.772 Q67.5661 439.772 69.3717 436.23 Q71.2004 432.665 71.2004 425.559 Q71.2004 418.429 69.3717 414.888 Q67.5661 411.323 63.9319 411.323 M63.9319 407.619 Q69.742 407.619 72.7976 412.226 Q75.8763 416.809 75.8763 425.559 Q75.8763 434.286 72.7976 438.892 Q69.742 443.475 63.9319 443.475 Q58.1217 443.475 55.043 438.892 Q51.9875 434.286 51.9875 425.559 Q51.9875 416.809 55.043 412.226 Q58.1217 407.619 63.9319 407.619 Z\" fill=\"#000000\" fill-rule=\"evenodd\" fill-opacity=\"1\" /><path clip-path=\"url(#clip340)\" d=\"M84.0938 436.925 L88.978 436.925 L88.978 442.804 L84.0938 442.804 L84.0938 436.925 Z\" fill=\"#000000\" fill-rule=\"evenodd\" fill-opacity=\"1\" /><path clip-path=\"url(#clip340)\" d=\"M97.9826 408.244 L120.205 408.244 L120.205 410.235 L107.658 442.804 L102.774 442.804 L114.58 412.179 L97.9826 412.179 L97.9826 408.244 Z\" fill=\"#000000\" fill-rule=\"evenodd\" fill-opacity=\"1\" /><path clip-path=\"url(#clip340)\" d=\"M129.371 408.244 L147.728 408.244 L147.728 412.179 L133.654 412.179 L133.654 420.651 Q134.672 420.304 135.691 420.142 Q136.709 419.957 137.728 419.957 Q143.515 419.957 146.894 423.128 Q150.274 426.3 150.274 431.716 Q150.274 437.295 146.802 440.397 Q143.33 443.475 137.01 443.475 Q134.834 443.475 132.566 443.105 Q130.32 442.735 127.913 441.994 L127.913 437.295 Q129.996 438.429 132.219 438.985 Q134.441 439.54 136.918 439.54 Q140.922 439.54 143.26 437.434 Q145.598 435.327 145.598 431.716 Q145.598 428.105 143.26 425.999 Q140.922 423.892 136.918 423.892 Q135.043 423.892 133.168 424.309 Q131.316 424.726 129.371 425.605 L129.371 408.244 Z\" fill=\"#000000\" fill-rule=\"evenodd\" fill-opacity=\"1\" /><path clip-path=\"url(#clip340)\" d=\"M53.7467 96.6106 L61.3856 96.6106 L61.3856 70.245 L53.0754 71.9116 L53.0754 67.6524 L61.3393 65.9857 L66.0152 65.9857 L66.0152 96.6106 L73.654 96.6106 L73.654 100.546 L53.7467 100.546 L53.7467 96.6106 Z\" fill=\"#000000\" fill-rule=\"evenodd\" fill-opacity=\"1\" /><path clip-path=\"url(#clip340)\" d=\"M83.0984 94.6661 L87.9827 94.6661 L87.9827 100.546 L83.0984 100.546 L83.0984 94.6661 Z\" fill=\"#000000\" fill-rule=\"evenodd\" fill-opacity=\"1\" /><path clip-path=\"url(#clip340)\" d=\"M108.168 69.0644 Q104.557 69.0644 102.728 72.6292 Q100.922 76.1709 100.922 83.3005 Q100.922 90.4069 102.728 93.9717 Q104.557 97.5134 108.168 97.5134 Q111.802 97.5134 113.608 93.9717 Q115.436 90.4069 115.436 83.3005 Q115.436 76.1709 113.608 72.6292 Q111.802 69.0644 108.168 69.0644 M108.168 65.3607 Q113.978 65.3607 117.033 69.9672 Q120.112 74.5505 120.112 83.3005 Q120.112 92.0273 117.033 96.6337 Q113.978 101.217 108.168 101.217 Q102.358 101.217 99.2789 96.6337 Q96.2234 92.0273 96.2234 83.3005 Q96.2234 74.5505 99.2789 69.9672 Q102.358 65.3607 108.168 65.3607 Z\" fill=\"#000000\" fill-rule=\"evenodd\" fill-opacity=\"1\" /><path clip-path=\"url(#clip340)\" d=\"M138.33 69.0644 Q134.719 69.0644 132.89 72.6292 Q131.084 76.1709 131.084 83.3005 Q131.084 90.4069 132.89 93.9717 Q134.719 97.5134 138.33 97.5134 Q141.964 97.5134 143.769 93.9717 Q145.598 90.4069 145.598 83.3005 Q145.598 76.1709 143.769 72.6292 Q141.964 69.0644 138.33 69.0644 M138.33 65.3607 Q144.14 65.3607 147.195 69.9672 Q150.274 74.5505 150.274 83.3005 Q150.274 92.0273 147.195 96.6337 Q144.14 101.217 138.33 101.217 Q132.519 101.217 129.441 96.6337 Q126.385 92.0273 126.385 83.3005 Q126.385 74.5505 129.441 69.9672 Q132.519 65.3607 138.33 65.3607 Z\" fill=\"#000000\" fill-rule=\"evenodd\" fill-opacity=\"1\" /><circle clip-path=\"url(#clip342)\" cx=\"1349.82\" cy=\"1255.65\" r=\"14\" fill=\"#009af9\" fill-rule=\"evenodd\" fill-opacity=\"1\" stroke=\"#000000\" stroke-opacity=\"1\" stroke-width=\"3.2\"/>\n",
       "<circle clip-path=\"url(#clip342)\" cx=\"1180.57\" cy=\"1445.72\" r=\"14\" fill=\"#009af9\" fill-rule=\"evenodd\" fill-opacity=\"1\" stroke=\"#000000\" stroke-opacity=\"1\" stroke-width=\"3.2\"/>\n",
       "<circle clip-path=\"url(#clip342)\" cx=\"247.59\" cy=\"671.834\" r=\"14\" fill=\"#009af9\" fill-rule=\"evenodd\" fill-opacity=\"1\" stroke=\"#000000\" stroke-opacity=\"1\" stroke-width=\"3.2\"/>\n",
       "<circle clip-path=\"url(#clip342)\" cx=\"579.535\" cy=\"1294.59\" r=\"14\" fill=\"#009af9\" fill-rule=\"evenodd\" fill-opacity=\"1\" stroke=\"#000000\" stroke-opacity=\"1\" stroke-width=\"3.2\"/>\n",
       "<circle clip-path=\"url(#clip342)\" cx=\"2260.14\" cy=\"1111.08\" r=\"14\" fill=\"#009af9\" fill-rule=\"evenodd\" fill-opacity=\"1\" stroke=\"#000000\" stroke-opacity=\"1\" stroke-width=\"3.2\"/>\n",
       "<circle clip-path=\"url(#clip342)\" cx=\"2291.44\" cy=\"465.664\" r=\"14\" fill=\"#009af9\" fill-rule=\"evenodd\" fill-opacity=\"1\" stroke=\"#000000\" stroke-opacity=\"1\" stroke-width=\"3.2\"/>\n",
       "<circle clip-path=\"url(#clip342)\" cx=\"859.503\" cy=\"538.952\" r=\"14\" fill=\"#009af9\" fill-rule=\"evenodd\" fill-opacity=\"1\" stroke=\"#000000\" stroke-opacity=\"1\" stroke-width=\"3.2\"/>\n",
       "<circle clip-path=\"url(#clip342)\" cx=\"588.036\" cy=\"1258.25\" r=\"14\" fill=\"#009af9\" fill-rule=\"evenodd\" fill-opacity=\"1\" stroke=\"#000000\" stroke-opacity=\"1\" stroke-width=\"3.2\"/>\n",
       "<circle clip-path=\"url(#clip342)\" cx=\"2255.84\" cy=\"300.062\" r=\"14\" fill=\"#009af9\" fill-rule=\"evenodd\" fill-opacity=\"1\" stroke=\"#000000\" stroke-opacity=\"1\" stroke-width=\"3.2\"/>\n",
       "<circle clip-path=\"url(#clip342)\" cx=\"1459.08\" cy=\"609.659\" r=\"14\" fill=\"#009af9\" fill-rule=\"evenodd\" fill-opacity=\"1\" stroke=\"#000000\" stroke-opacity=\"1\" stroke-width=\"3.2\"/>\n",
       "<circle clip-path=\"url(#clip342)\" cx=\"2214.25\" cy=\"1090.29\" r=\"14\" fill=\"#009af9\" fill-rule=\"evenodd\" fill-opacity=\"1\" stroke=\"#000000\" stroke-opacity=\"1\" stroke-width=\"3.2\"/>\n",
       "<circle clip-path=\"url(#clip342)\" cx=\"551.895\" cy=\"311.702\" r=\"14\" fill=\"#009af9\" fill-rule=\"evenodd\" fill-opacity=\"1\" stroke=\"#000000\" stroke-opacity=\"1\" stroke-width=\"3.2\"/>\n",
       "<circle clip-path=\"url(#clip342)\" cx=\"1114.13\" cy=\"344.007\" r=\"14\" fill=\"#009af9\" fill-rule=\"evenodd\" fill-opacity=\"1\" stroke=\"#000000\" stroke-opacity=\"1\" stroke-width=\"3.2\"/>\n",
       "<circle clip-path=\"url(#clip342)\" cx=\"1497.6\" cy=\"1164.42\" r=\"14\" fill=\"#009af9\" fill-rule=\"evenodd\" fill-opacity=\"1\" stroke=\"#000000\" stroke-opacity=\"1\" stroke-width=\"3.2\"/>\n",
       "<circle clip-path=\"url(#clip342)\" cx=\"986.915\" cy=\"683.661\" r=\"14\" fill=\"#009af9\" fill-rule=\"evenodd\" fill-opacity=\"1\" stroke=\"#000000\" stroke-opacity=\"1\" stroke-width=\"3.2\"/>\n",
       "<circle clip-path=\"url(#clip342)\" cx=\"1029.75\" cy=\"1389.69\" r=\"14\" fill=\"#009af9\" fill-rule=\"evenodd\" fill-opacity=\"1\" stroke=\"#000000\" stroke-opacity=\"1\" stroke-width=\"3.2\"/>\n",
       "<circle clip-path=\"url(#clip342)\" cx=\"1477.53\" cy=\"207.878\" r=\"14\" fill=\"#009af9\" fill-rule=\"evenodd\" fill-opacity=\"1\" stroke=\"#000000\" stroke-opacity=\"1\" stroke-width=\"3.2\"/>\n",
       "<circle clip-path=\"url(#clip342)\" cx=\"1803.11\" cy=\"620.843\" r=\"14\" fill=\"#009af9\" fill-rule=\"evenodd\" fill-opacity=\"1\" stroke=\"#000000\" stroke-opacity=\"1\" stroke-width=\"3.2\"/>\n",
       "<circle clip-path=\"url(#clip342)\" cx=\"771.707\" cy=\"87.9763\" r=\"14\" fill=\"#009af9\" fill-rule=\"evenodd\" fill-opacity=\"1\" stroke=\"#000000\" stroke-opacity=\"1\" stroke-width=\"3.2\"/>\n",
       "<circle clip-path=\"url(#clip342)\" cx=\"1285.18\" cy=\"820.858\" r=\"14\" fill=\"#009af9\" fill-rule=\"evenodd\" fill-opacity=\"1\" stroke=\"#000000\" stroke-opacity=\"1\" stroke-width=\"3.2\"/>\n",
       "<circle clip-path=\"url(#clip342)\" cx=\"1518.45\" cy=\"841.942\" r=\"14\" fill=\"#009af9\" fill-rule=\"evenodd\" fill-opacity=\"1\" stroke=\"#000000\" stroke-opacity=\"1\" stroke-width=\"3.2\"/>\n",
       "<circle clip-path=\"url(#clip342)\" cx=\"660.684\" cy=\"1318.36\" r=\"14\" fill=\"#009af9\" fill-rule=\"evenodd\" fill-opacity=\"1\" stroke=\"#000000\" stroke-opacity=\"1\" stroke-width=\"3.2\"/>\n",
       "<circle clip-path=\"url(#clip342)\" cx=\"567.211\" cy=\"559.888\" r=\"14\" fill=\"#009af9\" fill-rule=\"evenodd\" fill-opacity=\"1\" stroke=\"#000000\" stroke-opacity=\"1\" stroke-width=\"3.2\"/>\n",
       "<circle clip-path=\"url(#clip342)\" cx=\"1272.63\" cy=\"1138.85\" r=\"14\" fill=\"#009af9\" fill-rule=\"evenodd\" fill-opacity=\"1\" stroke=\"#000000\" stroke-opacity=\"1\" stroke-width=\"3.2\"/>\n",
       "<circle clip-path=\"url(#clip342)\" cx=\"2282.6\" cy=\"225.802\" r=\"14\" fill=\"#009af9\" fill-rule=\"evenodd\" fill-opacity=\"1\" stroke=\"#000000\" stroke-opacity=\"1\" stroke-width=\"3.2\"/>\n",
       "<circle clip-path=\"url(#clip342)\" cx=\"385.823\" cy=\"982.329\" r=\"14\" fill=\"#009af9\" fill-rule=\"evenodd\" fill-opacity=\"1\" stroke=\"#000000\" stroke-opacity=\"1\" stroke-width=\"3.2\"/>\n",
       "<circle clip-path=\"url(#clip342)\" cx=\"732.95\" cy=\"688.387\" r=\"14\" fill=\"#009af9\" fill-rule=\"evenodd\" fill-opacity=\"1\" stroke=\"#000000\" stroke-opacity=\"1\" stroke-width=\"3.2\"/>\n",
       "<circle clip-path=\"url(#clip342)\" cx=\"1177.13\" cy=\"718.002\" r=\"14\" fill=\"#009af9\" fill-rule=\"evenodd\" fill-opacity=\"1\" stroke=\"#000000\" stroke-opacity=\"1\" stroke-width=\"3.2\"/>\n",
       "<circle clip-path=\"url(#clip342)\" cx=\"1842.75\" cy=\"247.291\" r=\"14\" fill=\"#009af9\" fill-rule=\"evenodd\" fill-opacity=\"1\" stroke=\"#000000\" stroke-opacity=\"1\" stroke-width=\"3.2\"/>\n",
       "<circle clip-path=\"url(#clip342)\" cx=\"812.714\" cy=\"649.688\" r=\"14\" fill=\"#009af9\" fill-rule=\"evenodd\" fill-opacity=\"1\" stroke=\"#000000\" stroke-opacity=\"1\" stroke-width=\"3.2\"/>\n",
       "<path clip-path=\"url(#clip340)\" d=\"\n",
       "M1987.39 198.898 L2280.54 198.898 L2280.54 95.2176 L1987.39 95.2176  Z\n",
       "  \" fill=\"#ffffff\" fill-rule=\"evenodd\" fill-opacity=\"1\"/>\n",
       "<polyline clip-path=\"url(#clip340)\" style=\"stroke:#000000; stroke-linecap:butt; stroke-linejoin:round; stroke-width:4; stroke-opacity:1; fill:none\" points=\"\n",
       "  1987.39,198.898 2280.54,198.898 2280.54,95.2176 1987.39,95.2176 1987.39,198.898 \n",
       "  \"/>\n",
       "<circle clip-path=\"url(#clip340)\" cx=\"2083.68\" cy=\"147.058\" r=\"23\" fill=\"#009af9\" fill-rule=\"evenodd\" fill-opacity=\"1\" stroke=\"#000000\" stroke-opacity=\"1\" stroke-width=\"5.12\"/>\n",
       "<path clip-path=\"url(#clip340)\" d=\"M2193.81 166.745 Q2192 171.375 2190.29 172.787 Q2188.58 174.199 2185.71 174.199 L2182.3 174.199 L2182.3 170.634 L2184.8 170.634 Q2186.56 170.634 2187.53 169.8 Q2188.51 168.967 2189.69 165.865 L2190.45 163.921 L2179.97 138.412 L2184.48 138.412 L2192.58 158.689 L2200.68 138.412 L2205.2 138.412 L2193.81 166.745 Z\" fill=\"#000000\" fill-rule=\"evenodd\" fill-opacity=\"1\" /><path clip-path=\"url(#clip340)\" d=\"M2212.49 160.402 L2220.13 160.402 L2220.13 134.037 L2211.82 135.703 L2211.82 131.444 L2220.08 129.778 L2224.76 129.778 L2224.76 160.402 L2232.4 160.402 L2232.4 164.338 L2212.49 164.338 L2212.49 160.402 Z\" fill=\"#000000\" fill-rule=\"evenodd\" fill-opacity=\"1\" /></svg>\n"
      ]
     },
     "execution_count": 4,
     "metadata": {},
     "output_type": "execute_result"
    }
   ],
   "source": [
    "N = 30\n",
    "X, D = generate_tsp_data(N)\n",
    "\n",
    "scatter(X[:, 1], X[:, 2])"
   ]
  },
  {
   "cell_type": "markdown",
   "id": "fab5dab2",
   "metadata": {},
   "source": [
    "## Lazy constraints"
   ]
  },
  {
   "cell_type": "markdown",
   "id": "85a512d4",
   "metadata": {},
   "source": [
    "## Heuristics"
   ]
  },
  {
   "cell_type": "code",
   "execution_count": null,
   "id": "fece72e1",
   "metadata": {},
   "outputs": [],
   "source": []
  }
 ],
 "metadata": {
  "kernelspec": {
   "display_name": "Julia 1.6.3",
   "language": "julia",
   "name": "julia-1.6"
  },
  "language_info": {
   "file_extension": ".jl",
   "mimetype": "application/julia",
   "name": "julia",
   "version": "1.6.3"
  }
 },
 "nbformat": 4,
 "nbformat_minor": 5
}
