{
 "cells": [
  {
   "cell_type": "markdown",
   "id": "f494cf5d",
   "metadata": {
    "slideshow": {
     "slide_type": "slide"
    }
   },
   "source": [
    "# Callbacks 101"
   ]
  },
  {
   "cell_type": "code",
   "execution_count": 1,
   "id": "85e97467",
   "metadata": {
    "slideshow": {
     "slide_type": "skip"
    }
   },
   "outputs": [],
   "source": [
    "def fsum(X, f=None):\n",
    "    \"\"\"Compute the sum of `f(x)` for each element in `X`.\n",
    "\n",
    "    Args:\n",
    "        X: A sequence of integers\n",
    "        f: A function with signature `f(x)`, where `x` is an integer.\n",
    "            `f(x)` should return a number.\n",
    "            If `f` is not specified, it defaults to the identity function.\n",
    "    \"\"\"\n",
    "    res = 0\n",
    "    for (i, x) in enumerate(X):\n",
    "        if f is not None:\n",
    "            res += f(x)\n",
    "        else:\n",
    "            res += x\n",
    "        \n",
    "    return res"
   ]
  },
  {
   "cell_type": "markdown",
   "id": "2c31b731",
   "metadata": {
    "slideshow": {
     "slide_type": "subslide"
    }
   },
   "source": [
    "Someone defined a function called `fsum`..."
   ]
  },
  {
   "cell_type": "code",
   "execution_count": 2,
   "id": "f190b103",
   "metadata": {
    "slideshow": {
     "slide_type": "fragment"
    }
   },
   "outputs": [
    {
     "name": "stdout",
     "output_type": "stream",
     "text": [
      "Help on function fsum in module __main__:\n",
      "\n",
      "fsum(X, f=None)\n",
      "    Compute the sum of `f(x)` for each element in `X`.\n",
      "    \n",
      "    Args:\n",
      "        X: A sequence of integers\n",
      "        f: A function with signature `f(x)`, where `x` is an integer.\n",
      "            `f(x)` should return a number.\n",
      "            If `f` is not specified, it defaults to the identity function.\n",
      "\n"
     ]
    }
   ],
   "source": [
    "help(fsum)"
   ]
  },
  {
   "cell_type": "code",
   "execution_count": 3,
   "id": "7c324c2b",
   "metadata": {
    "slideshow": {
     "slide_type": "fragment"
    }
   },
   "outputs": [
    {
     "data": {
      "text/plain": [
       "10"
      ]
     },
     "execution_count": 3,
     "metadata": {},
     "output_type": "execute_result"
    }
   ],
   "source": [
    "fsum([1, 2, 3, 4])"
   ]
  },
  {
   "cell_type": "markdown",
   "id": "1616d10c",
   "metadata": {
    "slideshow": {
     "slide_type": "subslide"
    }
   },
   "source": [
    "> `fsum(X, f=None)`\n",
    "\n",
    "The extra argument `f` is a function..."
   ]
  },
  {
   "cell_type": "code",
   "execution_count": 4,
   "id": "de424da3",
   "metadata": {
    "slideshow": {
     "slide_type": "fragment"
    }
   },
   "outputs": [],
   "source": [
    "def my_callback(x):\n",
    "    print(f'I am in a callback! (BTW, x={x})')\n",
    "    return x"
   ]
  },
  {
   "cell_type": "markdown",
   "id": "02085ab6",
   "metadata": {
    "slideshow": {
     "slide_type": "fragment"
    }
   },
   "source": [
    "... and this function is called during the execution of `fsum`"
   ]
  },
  {
   "cell_type": "code",
   "execution_count": 5,
   "id": "5e4f295f",
   "metadata": {
    "slideshow": {
     "slide_type": "fragment"
    }
   },
   "outputs": [
    {
     "name": "stdout",
     "output_type": "stream",
     "text": [
      "I am in a callback! (BTW, x=1)\n",
      "I am in a callback! (BTW, x=2)\n",
      "I am in a callback! (BTW, x=3)\n",
      "I am in a callback! (BTW, x=4)\n",
      "result = 10\n"
     ]
    }
   ],
   "source": [
    "res = fsum([1, 2, 3, 4], my_callback)\n",
    "print(f'result = {res}')"
   ]
  },
  {
   "cell_type": "markdown",
   "id": "7f59024c",
   "metadata": {
    "slideshow": {
     "slide_type": "subslide"
    }
   },
   "source": [
    "### Fancier examples\n",
    "\n",
    "What if we want to sum only _odd_ or _even_ integers?"
   ]
  },
  {
   "cell_type": "code",
   "execution_count": 6,
   "id": "2f1ffda1",
   "metadata": {
    "slideshow": {
     "slide_type": "fragment"
    }
   },
   "outputs": [],
   "source": [
    "X_all  = [1, 2, 3, 4, 5, 6, 7, 8, 9, 10]\n",
    "\n",
    "# Explicitly keep only odd / even integers\n",
    "X_odd  = [1, 3, 5, 7, 9]\n",
    "X_even = [2, 4, 6, 8, 10]  "
   ]
  },
  {
   "cell_type": "code",
   "execution_count": 7,
   "id": "96b22d65",
   "metadata": {
    "slideshow": {
     "slide_type": "fragment"
    }
   },
   "outputs": [
    {
     "name": "stdout",
     "output_type": "stream",
     "text": [
      "sum(all)  : 55\n",
      "sum(odd)  : 25\n",
      "sum(even) : 30\n"
     ]
    }
   ],
   "source": [
    "print(\"sum(all)  :\", fsum(X_all))\n",
    "print(\"sum(odd)  :\", fsum(X_odd))\n",
    "print(\"sum(even) :\", fsum(X_even))"
   ]
  },
  {
   "cell_type": "markdown",
   "id": "8e9ee4e5",
   "metadata": {
    "slideshow": {
     "slide_type": "subslide"
    }
   },
   "source": [
    "Could we do that without creating new lists?"
   ]
  },
  {
   "cell_type": "markdown",
   "id": "dae1fb69",
   "metadata": {
    "slideshow": {
     "slide_type": "fragment"
    }
   },
   "source": [
    "Yes! Just define a callback that skips odd/even integers"
   ]
  },
  {
   "cell_type": "code",
   "execution_count": 8,
   "id": "9d660d55",
   "metadata": {
    "slideshow": {
     "slide_type": "fragment"
    }
   },
   "outputs": [],
   "source": [
    "def even_only(x): \n",
    "    if (x % 2 == 1):\n",
    "        print(f'Callback #1: skipping odd element x={x}.')\n",
    "        return 0\n",
    "    \n",
    "    return x\n",
    "    \n",
    "def odd_only(x):\n",
    "    if (x % 2 == 0):\n",
    "        print(f'Callback #1: skipping even element x={x}.')\n",
    "        return 0\n",
    "    \n",
    "    return x"
   ]
  },
  {
   "cell_type": "code",
   "execution_count": 9,
   "id": "51bb9818",
   "metadata": {
    "slideshow": {
     "slide_type": "subslide"
    }
   },
   "outputs": [
    {
     "name": "stdout",
     "output_type": "stream",
     "text": [
      "Callback #1: skipping odd element x=1.\n",
      "Callback #1: skipping odd element x=3.\n",
      "Callback #1: skipping odd element x=5.\n",
      "Callback #1: skipping odd element x=7.\n",
      "Callback #1: skipping odd element x=9.\n",
      "sum(even) : 30\n"
     ]
    }
   ],
   "source": [
    "res = fsum(X_all, even_only)\n",
    "print(f'sum(even) : {res}')"
   ]
  },
  {
   "cell_type": "code",
   "execution_count": 10,
   "id": "23982e8b",
   "metadata": {
    "slideshow": {
     "slide_type": "fragment"
    }
   },
   "outputs": [
    {
     "name": "stdout",
     "output_type": "stream",
     "text": [
      "Callback #1: skipping even element x=2.\n",
      "Callback #1: skipping even element x=4.\n",
      "Callback #1: skipping even element x=6.\n",
      "Callback #1: skipping even element x=8.\n",
      "Callback #1: skipping even element x=10.\n",
      "sum(odd)  : 25\n"
     ]
    }
   ],
   "source": [
    "res = fsum(X_all, odd_only)\n",
    "print(f'sum(odd)  : {res}')"
   ]
  },
  {
   "cell_type": "markdown",
   "id": "3407a615",
   "metadata": {
    "slideshow": {
     "slide_type": "slide"
    }
   },
   "source": [
    "# Closures 101\n",
    "\n",
    "MIP callbacks in Julia and python use so-called _closures_."
   ]
  },
  {
   "cell_type": "markdown",
   "id": "2ac7fcc1",
   "metadata": {
    "slideshow": {
     "slide_type": "fragment"
    }
   },
   "source": [
    " > A closure is a record storing a function together with an environment"
   ]
  },
  {
   "cell_type": "markdown",
   "id": "cd24f607",
   "metadata": {
    "slideshow": {
     "slide_type": "fragment"
    }
   },
   "source": [
    "In English: you can define a function that captures a variable defined _outside_ the function."
   ]
  },
  {
   "cell_type": "markdown",
   "id": "6d380d7e",
   "metadata": {
    "slideshow": {
     "slide_type": "subslide"
    }
   },
   "source": [
    "### `lambda` functions are closures!"
   ]
  },
  {
   "cell_type": "code",
   "execution_count": 11,
   "id": "1ce18a86",
   "metadata": {
    "slideshow": {
     "slide_type": "fragment"
    }
   },
   "outputs": [],
   "source": [
    "a = 1\n",
    "g = lambda x: (a+x)"
   ]
  },
  {
   "cell_type": "code",
   "execution_count": 12,
   "id": "df51b727",
   "metadata": {
    "slideshow": {
     "slide_type": "fragment"
    }
   },
   "outputs": [
    {
     "data": {
      "text/plain": [
       "2"
      ]
     },
     "execution_count": 12,
     "metadata": {},
     "output_type": "execute_result"
    }
   ],
   "source": [
    "g(1)"
   ]
  },
  {
   "cell_type": "code",
   "execution_count": 13,
   "id": "b08650e3",
   "metadata": {
    "slideshow": {
     "slide_type": "fragment"
    }
   },
   "outputs": [
    {
     "data": {
      "text/plain": [
       "4"
      ]
     },
     "execution_count": 13,
     "metadata": {},
     "output_type": "execute_result"
    }
   ],
   "source": [
    "a = 3\n",
    "g(1)"
   ]
  },
  {
   "cell_type": "code",
   "execution_count": 14,
   "id": "160a9770",
   "metadata": {
    "slideshow": {
     "slide_type": "fragment"
    }
   },
   "outputs": [
    {
     "ename": "TypeError",
     "evalue": "can only concatenate str (not \"int\") to str",
     "output_type": "error",
     "traceback": [
      "\u001b[0;31m---------------------------------------------------------------------------\u001b[0m",
      "\u001b[0;31mTypeError\u001b[0m                                 Traceback (most recent call last)",
      "\u001b[0;32m/tmp/ipykernel_17827/1195662531.py\u001b[0m in \u001b[0;36m<module>\u001b[0;34m\u001b[0m\n\u001b[1;32m      1\u001b[0m \u001b[0ma\u001b[0m \u001b[0;34m=\u001b[0m \u001b[0;34m\"hello\"\u001b[0m\u001b[0;34m\u001b[0m\u001b[0;34m\u001b[0m\u001b[0m\n\u001b[0;32m----> 2\u001b[0;31m \u001b[0mg\u001b[0m\u001b[0;34m(\u001b[0m\u001b[0;36m1\u001b[0m\u001b[0;34m)\u001b[0m\u001b[0;34m\u001b[0m\u001b[0;34m\u001b[0m\u001b[0m\n\u001b[0m",
      "\u001b[0;32m/tmp/ipykernel_17827/3526735162.py\u001b[0m in \u001b[0;36m<lambda>\u001b[0;34m(x)\u001b[0m\n\u001b[1;32m      1\u001b[0m \u001b[0ma\u001b[0m \u001b[0;34m=\u001b[0m \u001b[0;36m1\u001b[0m\u001b[0;34m\u001b[0m\u001b[0;34m\u001b[0m\u001b[0m\n\u001b[0;32m----> 2\u001b[0;31m \u001b[0mg\u001b[0m \u001b[0;34m=\u001b[0m \u001b[0;32mlambda\u001b[0m \u001b[0mx\u001b[0m\u001b[0;34m:\u001b[0m \u001b[0;34m(\u001b[0m\u001b[0ma\u001b[0m\u001b[0;34m+\u001b[0m\u001b[0mx\u001b[0m\u001b[0;34m)\u001b[0m\u001b[0;34m\u001b[0m\u001b[0;34m\u001b[0m\u001b[0m\n\u001b[0m",
      "\u001b[0;31mTypeError\u001b[0m: can only concatenate str (not \"int\") to str"
     ]
    }
   ],
   "source": [
    "a = \"hello\"\n",
    "g(1)"
   ]
  },
  {
   "cell_type": "markdown",
   "id": "37775f8c",
   "metadata": {
    "slideshow": {
     "slide_type": "subslide"
    }
   },
   "source": [
    "### Closures within a function"
   ]
  },
  {
   "cell_type": "code",
   "execution_count": 15,
   "id": "9d580b94",
   "metadata": {
    "slideshow": {
     "slide_type": "fragment"
    }
   },
   "outputs": [],
   "source": [
    "def modulo_sum(X):\n",
    "    # `n` and `U` are defined within `modulo_sum`\n",
    "    n = 0\n",
    "    U = []\n",
    "    \n",
    "    # The definition of `f` \"captures\" the variables `n` and `U`\n",
    "    # This allows us to modify `U` within the callback\n",
    "    def f(x):\n",
    "        U.append(x)\n",
    "        return x ** (n)\n",
    "    \n",
    "    for k in range(1, 4):\n",
    "        n = k             # <-- this implicitly changes f!\n",
    "        res = fsum(X, f)  # <-- will modify U\n",
    "        \n",
    "        print(f'Σ(x^{k}) = {res}')\n",
    "    \n",
    "    return U"
   ]
  },
  {
   "cell_type": "code",
   "execution_count": 16,
   "id": "234e2236",
   "metadata": {
    "slideshow": {
     "slide_type": "fragment"
    }
   },
   "outputs": [
    {
     "name": "stdout",
     "output_type": "stream",
     "text": [
      "Σ(x^1) = 6\n",
      "Σ(x^2) = 14\n",
      "Σ(x^3) = 36\n",
      "U =  [1, 2, 3, 1, 2, 3, 1, 2, 3]\n"
     ]
    }
   ],
   "source": [
    "X = range(1, 4)\n",
    "U = modulo_sum(X)\n",
    "print('U = ', U)"
   ]
  },
  {
   "cell_type": "markdown",
   "id": "8fa3bcdb",
   "metadata": {
    "slideshow": {
     "slide_type": "subslide"
    }
   },
   "source": [
    "## When is this useful / needed?\n",
    "\n",
    "* To monitor a lower / upper bound within the optimization\n",
    "* To keep track of all feasible solution (or just the best)\n",
    "* To access user-defined data structures\n",
    "  --> e.g., a Benders' subproblem"
   ]
  }
 ],
 "metadata": {
  "celltoolbar": "Slideshow",
  "kernelspec": {
   "display_name": "Python 3 (ipykernel)",
   "language": "python",
   "name": "python3"
  },
  "language_info": {
   "codemirror_mode": {
    "name": "ipython",
    "version": 3
   },
   "file_extension": ".py",
   "mimetype": "text/x-python",
   "name": "python",
   "nbconvert_exporter": "python",
   "pygments_lexer": "ipython3",
   "version": "3.9.5"
  }
 },
 "nbformat": 4,
 "nbformat_minor": 5
}
