{
 "cells": [
  {
   "cell_type": "markdown",
   "id": "f494cf5d",
   "metadata": {},
   "source": [
    "# Callbacks 101"
   ]
  },
  {
   "cell_type": "code",
   "execution_count": null,
   "id": "ab2be182",
   "metadata": {},
   "outputs": [],
   "source": [
    "function greetings(name)\n",
    "    println(\"Hello, $name!\")\n",
    "    return nothing\n",
    "end"
   ]
  }
 ],
 "metadata": {
  "kernelspec": {
   "display_name": "Julia 1.6.3",
   "language": "julia",
   "name": "julia-1.6"
  },
  "language_info": {
   "file_extension": ".jl",
   "mimetype": "application/julia",
   "name": "julia",
   "version": "1.6.3"
  }
 },
 "nbformat": 4,
 "nbformat_minor": 5
}
